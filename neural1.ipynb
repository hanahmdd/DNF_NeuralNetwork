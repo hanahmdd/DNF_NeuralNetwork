{
 "cells": [
  {
   "cell_type": "code",
   "execution_count": 11,
   "metadata": {},
   "outputs": [],
   "source": [
    "import numpy as np\n",
    "\n",
    "def get_weights_and_thresholds(m, n, conjunctions):\n",
    "    weights = []\n",
    "    thresholds = []\n",
    "    \n",
    "    for conjunction in conjunctions:\n",
    "        weight_vector = np.zeros(n, dtype=int)\n",
    "        for index in conjunction:\n",
    "            if index > 0:\n",
    "                weight_vector[index - 1] = 2\n",
    "            elif index < 0:\n",
    "                weight_vector[abs(index) - 1] = -2\n",
    "        theta = n - 1 + 0.5 * np.sum(weight_vector)\n",
    "        weights.append(weight_vector.tolist())\n",
    "        thresholds.append(int(theta))\n",
    "    \n",
    "    output_weights = [2] * m  # Each conjunction contributes with weight 2\n",
    "    output_threshold = 1  # Given in the algorithm\n",
    "    \n",
    "    return weights, thresholds, output_weights, output_threshold"
   ]
  },
  {
   "cell_type": "code",
   "execution_count": null,
   "metadata": {},
   "outputs": [],
   "source": [
    "# User input\n",
    "m = int(input(\"Enter the number of conjunctions (m): \"))\n",
    "n = int(input(\"Enter the number of input variables (n): \"))\n",
    "\n",
    "conjunctions = []\n",
    "for i in range(m):\n",
    "    conj_input = input(f\"Enter literals for conjunction {i+1} (space-separated indices, negative for negated literals): \")\n",
    "    conjunctions.append(list(map(int, conj_input.split())))\n",
    "\n",
    "weights, thresholds, output_weights, output_threshold = get_weights_and_thresholds(m, n, conjunctions)"
   ]
  },
  {
   "cell_type": "code",
   "execution_count": null,
   "metadata": {},
   "outputs": [
    {
     "name": "stdout",
     "output_type": "stream",
     "text": [
      "\n",
      "Weights for each conjunction neuron:\n",
      "Conjunction 1: Weights = [2, -2, 2], Threshold = 3\n",
      "Conjunction 2: Weights = [-2, 0, 2], Threshold = 2\n",
      "\n",
      "Output neuron:\n",
      "Weights = [2, 2], Threshold = 1\n"
     ]
    }
   ],
   "source": [
    "# Display results\n",
    "print(\"\\nWeights for each conjunction neuron:\")\n",
    "for i, (w, t) in enumerate(zip(weights, thresholds)):\n",
    "    print(f\"Conjunction {i+1}: Weights = {w}, Threshold = {t}\")\n",
    "\n",
    "print(\"\\nOutput neuron:\")\n",
    "print(f\"Weights = {output_weights}, Threshold = {output_threshold}\")\n",
    "\n"
   ]
  },
  {
   "cell_type": "code",
   "execution_count": null,
   "metadata": {},
   "outputs": [],
   "source": []
  },
  {
   "cell_type": "code",
   "execution_count": null,
   "metadata": {},
   "outputs": [],
   "source": []
  },
  {
   "cell_type": "code",
   "execution_count": null,
   "metadata": {},
   "outputs": [],
   "source": []
  },
  {
   "cell_type": "code",
   "execution_count": null,
   "metadata": {},
   "outputs": [],
   "source": []
  },
  {
   "cell_type": "code",
   "execution_count": null,
   "metadata": {},
   "outputs": [],
   "source": []
  },
  {
   "cell_type": "code",
   "execution_count": null,
   "metadata": {},
   "outputs": [],
   "source": []
  }
 ],
 "metadata": {
  "kernelspec": {
   "display_name": "Python 3",
   "language": "python",
   "name": "python3"
  },
  "language_info": {
   "codemirror_mode": {
    "name": "ipython",
    "version": 3
   },
   "file_extension": ".py",
   "mimetype": "text/x-python",
   "name": "python",
   "nbconvert_exporter": "python",
   "pygments_lexer": "ipython3",
   "version": "3.12.1"
  }
 },
 "nbformat": 4,
 "nbformat_minor": 2
}
